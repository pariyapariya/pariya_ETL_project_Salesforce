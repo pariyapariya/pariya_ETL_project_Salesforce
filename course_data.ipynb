{
 "cells": [
  {
   "cell_type": "markdown",
   "metadata": {},
   "source": [
    "## Install `simple_salesforce`  module\n",
    "\n",
    "Remove the comment symbol (#) to run `!pip install simple_salesforce`. Once this module is installed, you can comment it out again. "
   ]
  },
  {
   "cell_type": "code",
   "execution_count": 1,
   "metadata": {},
   "outputs": [],
   "source": [
    "#!pip install simple_salesforce"
   ]
  },
  {
   "cell_type": "markdown",
   "metadata": {},
   "source": [
    "## Import dependencies"
   ]
  },
  {
   "cell_type": "code",
   "execution_count": 2,
   "metadata": {},
   "outputs": [],
   "source": [
    "import json\n",
    "from sqlalchemy import create_engine\n",
    "import pandas as pd\n",
    "import pymysql\n",
    "pymysql.install_as_MySQLdb()"
   ]
  },
  {
   "cell_type": "markdown",
   "metadata": {},
   "source": [
    "## Import configuration variables"
   ]
  },
  {
   "cell_type": "code",
   "execution_count": 3,
   "metadata": {},
   "outputs": [],
   "source": [
    "# import sys\n",
    "# sys.path.append('../../../../')\n",
    "from config import sf_username, sf_password, sf_security_token\n",
    "from config import remote_db_endpoint, remote_db_port\n",
    "from config import remote_db_name, remote_db_user, remote_db_pwd"
   ]
  },
  {
   "cell_type": "markdown",
   "metadata": {},
   "source": [
    "## Set up `simple_salesforce`\n",
    "\n",
    "Pass in the username, password, and security token here. The security token contains information about your org."
   ]
  },
  {
   "cell_type": "code",
   "execution_count": 4,
   "metadata": {},
   "outputs": [],
   "source": [
    "from simple_salesforce import Salesforce\n",
    "sf = Salesforce(username=sf_username, password=sf_password, security_token=sf_security_token)"
   ]
  },
  {
   "cell_type": "markdown",
   "metadata": {},
   "source": [
    "## Connect to your MySQL database"
   ]
  },
  {
   "cell_type": "code",
   "execution_count": 5,
   "metadata": {},
   "outputs": [],
   "source": [
    "engine = create_engine(f\"mysql://{remote_db_user}:{remote_db_pwd}@{remote_db_endpoint}:{remote_db_port}/{remote_db_name}\")\n",
    "conn = engine.connect()"
   ]
  },
  {
   "cell_type": "markdown",
   "metadata": {},
   "source": [
    "## Query Data"
   ]
  },
  {
   "cell_type": "code",
   "execution_count": 6,
   "metadata": {},
   "outputs": [
    {
     "data": {
      "text/html": [
       "<div>\n",
       "<style scoped>\n",
       "    .dataframe tbody tr th:only-of-type {\n",
       "        vertical-align: middle;\n",
       "    }\n",
       "\n",
       "    .dataframe tbody tr th {\n",
       "        vertical-align: top;\n",
       "    }\n",
       "\n",
       "    .dataframe thead th {\n",
       "        text-align: right;\n",
       "    }\n",
       "</style>\n",
       "<table border=\"1\" class=\"dataframe\">\n",
       "  <thead>\n",
       "    <tr style=\"text-align: right;\">\n",
       "      <th></th>\n",
       "      <th>ID_Course</th>\n",
       "      <th>CourseCode</th>\n",
       "      <th>CourseName</th>\n",
       "      <th>CreditHours</th>\n",
       "      <th>BootCampCourse</th>\n",
       "    </tr>\n",
       "  </thead>\n",
       "  <tbody>\n",
       "    <tr>\n",
       "      <th>0</th>\n",
       "      <td>1</td>\n",
       "      <td>BC-DATAVIZ</td>\n",
       "      <td>Data Visualization and Analytics</td>\n",
       "      <td>12</td>\n",
       "      <td>1</td>\n",
       "    </tr>\n",
       "    <tr>\n",
       "      <th>1</th>\n",
       "      <td>2</td>\n",
       "      <td>BC-WEBDEV</td>\n",
       "      <td>Full Stack Web Development</td>\n",
       "      <td>12</td>\n",
       "      <td>1</td>\n",
       "    </tr>\n",
       "    <tr>\n",
       "      <th>2</th>\n",
       "      <td>3</td>\n",
       "      <td>BC-UIUX</td>\n",
       "      <td>User Interface/User Experience</td>\n",
       "      <td>12</td>\n",
       "      <td>1</td>\n",
       "    </tr>\n",
       "    <tr>\n",
       "      <th>3</th>\n",
       "      <td>4</td>\n",
       "      <td>CIS-349</td>\n",
       "      <td>Introduction to Databases</td>\n",
       "      <td>5</td>\n",
       "      <td>0</td>\n",
       "    </tr>\n",
       "    <tr>\n",
       "      <th>4</th>\n",
       "      <td>5</td>\n",
       "      <td>CIS-405</td>\n",
       "      <td>Database Programming</td>\n",
       "      <td>5</td>\n",
       "      <td>0</td>\n",
       "    </tr>\n",
       "  </tbody>\n",
       "</table>\n",
       "</div>"
      ],
      "text/plain": [
       "   ID_Course  CourseCode                        CourseName  CreditHours  \\\n",
       "0          1  BC-DATAVIZ  Data Visualization and Analytics           12   \n",
       "1          2   BC-WEBDEV        Full Stack Web Development           12   \n",
       "2          3     BC-UIUX    User Interface/User Experience           12   \n",
       "3          4     CIS-349         Introduction to Databases            5   \n",
       "4          5     CIS-405              Database Programming            5   \n",
       "\n",
       "   BootCampCourse  \n",
       "0               1  \n",
       "1               1  \n",
       "2               1  \n",
       "3               0  \n",
       "4               0  "
      ]
     },
     "execution_count": 6,
     "metadata": {},
     "output_type": "execute_result"
    }
   ],
   "source": [
    "course_data = pd.read_sql(\"SELECT * FROM course\", conn)\n",
    "course_data.head()"
   ]
  },
  {
   "cell_type": "markdown",
   "metadata": {},
   "source": [
    "## Transform Data"
   ]
  },
  {
   "cell_type": "code",
   "execution_count": 7,
   "metadata": {},
   "outputs": [
    {
     "data": {
      "text/html": [
       "<div>\n",
       "<style scoped>\n",
       "    .dataframe tbody tr th:only-of-type {\n",
       "        vertical-align: middle;\n",
       "    }\n",
       "\n",
       "    .dataframe tbody tr th {\n",
       "        vertical-align: top;\n",
       "    }\n",
       "\n",
       "    .dataframe thead th {\n",
       "        text-align: right;\n",
       "    }\n",
       "</style>\n",
       "<table border=\"1\" class=\"dataframe\">\n",
       "  <thead>\n",
       "    <tr style=\"text-align: right;\">\n",
       "      <th></th>\n",
       "      <th>ID_Course__c</th>\n",
       "      <th>CourseCode__c</th>\n",
       "      <th>Name</th>\n",
       "      <th>CreditHours__c</th>\n",
       "      <th>BootCampCourse__c</th>\n",
       "    </tr>\n",
       "  </thead>\n",
       "  <tbody>\n",
       "    <tr>\n",
       "      <th>0</th>\n",
       "      <td>1</td>\n",
       "      <td>BC-DATAVIZ</td>\n",
       "      <td>Data Visualization and Analytics</td>\n",
       "      <td>12</td>\n",
       "      <td>1</td>\n",
       "    </tr>\n",
       "    <tr>\n",
       "      <th>1</th>\n",
       "      <td>2</td>\n",
       "      <td>BC-WEBDEV</td>\n",
       "      <td>Full Stack Web Development</td>\n",
       "      <td>12</td>\n",
       "      <td>1</td>\n",
       "    </tr>\n",
       "    <tr>\n",
       "      <th>2</th>\n",
       "      <td>3</td>\n",
       "      <td>BC-UIUX</td>\n",
       "      <td>User Interface/User Experience</td>\n",
       "      <td>12</td>\n",
       "      <td>1</td>\n",
       "    </tr>\n",
       "    <tr>\n",
       "      <th>3</th>\n",
       "      <td>4</td>\n",
       "      <td>CIS-349</td>\n",
       "      <td>Introduction to Databases</td>\n",
       "      <td>5</td>\n",
       "      <td>0</td>\n",
       "    </tr>\n",
       "    <tr>\n",
       "      <th>4</th>\n",
       "      <td>5</td>\n",
       "      <td>CIS-405</td>\n",
       "      <td>Database Programming</td>\n",
       "      <td>5</td>\n",
       "      <td>0</td>\n",
       "    </tr>\n",
       "  </tbody>\n",
       "</table>\n",
       "</div>"
      ],
      "text/plain": [
       "   ID_Course__c CourseCode__c                              Name  \\\n",
       "0             1    BC-DATAVIZ  Data Visualization and Analytics   \n",
       "1             2     BC-WEBDEV        Full Stack Web Development   \n",
       "2             3       BC-UIUX    User Interface/User Experience   \n",
       "3             4       CIS-349         Introduction to Databases   \n",
       "4             5       CIS-405              Database Programming   \n",
       "\n",
       "   CreditHours__c  BootCampCourse__c  \n",
       "0              12                  1  \n",
       "1              12                  1  \n",
       "2              12                  1  \n",
       "3               5                  0  \n",
       "4               5                  0  "
      ]
     },
     "execution_count": 7,
     "metadata": {},
     "output_type": "execute_result"
    }
   ],
   "source": [
    "course_data = course_data.rename(columns={\n",
    "                                            'ID_Course':'ID_Course__c',\n",
    "                                            'CourseCode':'CourseCode__c',\n",
    "                                            'CourseName':'Name',\n",
    "                                            'CreditHours':'CreditHours__c',\n",
    "                                            'BootCampCourse':'BootCampCourse__c'\n",
    "                                         })\n",
    "course_data.head()"
   ]
  },
  {
   "cell_type": "code",
   "execution_count": 8,
   "metadata": {},
   "outputs": [
    {
     "data": {
      "text/plain": [
       "'\\n# Convert date type to be reable\\nstudent_data[\\'FullName\\'] = student_data[\\'FirstName\\'].str.cat(student_data[\\'LastName\\'], sep=\" \")\\nstudent_data[\\'Company\\'] = \\'Dartling University\\'\\nstudent_data = student_data.rename(columns={\\'FullName\\':\\'Name\\'})\\n\\n\\nstudent_load_df = student_data[[\\'LastName\\',\\'FirstName\\',\\'Company\\']]\\nstudent_load_df.head()\\n'"
      ]
     },
     "execution_count": 8,
     "metadata": {},
     "output_type": "execute_result"
    }
   ],
   "source": [
    "'''\n",
    "# Convert date type to be reable\n",
    "student_data['FullName'] = student_data['FirstName'].str.cat(student_data['LastName'], sep=\" \")\n",
    "student_data['Company'] = 'Dartling University'\n",
    "student_data = student_data.rename(columns={'FullName':'Name'})\n",
    "\n",
    "\n",
    "student_load_df = student_data[['LastName','FirstName','Company']]\n",
    "student_load_df.head()\n",
    "'''"
   ]
  },
  {
   "cell_type": "markdown",
   "metadata": {},
   "source": [
    "## Convert DataFrame to a list of dictionaries \n",
    "\n",
    "This can help facilitate a bulk insert"
   ]
  },
  {
   "cell_type": "code",
   "execution_count": 9,
   "metadata": {},
   "outputs": [
    {
     "data": {
      "text/plain": [
       "[{'ID_Course__c': 1,\n",
       "  'CourseCode__c': 'BC-DATAVIZ',\n",
       "  'Name': 'Data Visualization and Analytics',\n",
       "  'CreditHours__c': 12,\n",
       "  'BootCampCourse__c': 1},\n",
       " {'ID_Course__c': 2,\n",
       "  'CourseCode__c': 'BC-WEBDEV',\n",
       "  'Name': 'Full Stack Web Development',\n",
       "  'CreditHours__c': 12,\n",
       "  'BootCampCourse__c': 1},\n",
       " {'ID_Course__c': 3,\n",
       "  'CourseCode__c': 'BC-UIUX',\n",
       "  'Name': 'User Interface/User Experience',\n",
       "  'CreditHours__c': 12,\n",
       "  'BootCampCourse__c': 1},\n",
       " {'ID_Course__c': 4,\n",
       "  'CourseCode__c': 'CIS-349',\n",
       "  'Name': 'Introduction to Databases',\n",
       "  'CreditHours__c': 5,\n",
       "  'BootCampCourse__c': 0},\n",
       " {'ID_Course__c': 5,\n",
       "  'CourseCode__c': 'CIS-405',\n",
       "  'Name': 'Database Programming',\n",
       "  'CreditHours__c': 5,\n",
       "  'BootCampCourse__c': 0},\n",
       " {'ID_Course__c': 6,\n",
       "  'CourseCode__c': 'CIS-438',\n",
       "  'Name': 'Database Administration',\n",
       "  'CreditHours__c': 5,\n",
       "  'BootCampCourse__c': 0},\n",
       " {'ID_Course__c': 7,\n",
       "  'CourseCode__c': 'CIS-430',\n",
       "  'Name': 'Business Systems Programming I',\n",
       "  'CreditHours__c': 5,\n",
       "  'BootCampCourse__c': 0},\n",
       " {'ID_Course__c': 8,\n",
       "  'CourseCode__c': 'CIS-435',\n",
       "  'Name': 'Business Systems Programming II',\n",
       "  'CreditHours__c': 5,\n",
       "  'BootCampCourse__c': 0}]"
      ]
     },
     "execution_count": 9,
     "metadata": {},
     "output_type": "execute_result"
    }
   ],
   "source": [
    "course_load = course_data.to_dict(orient='record')\n",
    "course_load"
   ]
  },
  {
   "cell_type": "markdown",
   "metadata": {},
   "source": [
    "## inserting rows individually\n",
    "\n",
    "Loop through the DataFrame and assemble indiviudal dictionaries"
   ]
  },
  {
   "cell_type": "code",
   "execution_count": 10,
   "metadata": {},
   "outputs": [],
   "source": [
    "for row in course_load:\n",
    "\n",
    "    record = {\n",
    "        'ID_Course__c': row['ID_Course__c'],\n",
    "        'CourseCode__c': row['CourseCode__c'],\n",
    "        'Name': row['Name'],\n",
    "        'CreditHours__c':row['CreditHours__c'],\n",
    "        'BootCampCourse__c':row['BootCampCourse__c']\n",
    "    }\n",
    "    \n",
    "    try:\n",
    "        sf.Course__c.create(record)\n",
    "    except Exception as e:\n",
    "        print(e)"
   ]
  },
  {
   "cell_type": "markdown",
   "metadata": {},
   "source": [
    "## inserting rows in bulk"
   ]
  },
  {
   "cell_type": "code",
   "execution_count": 11,
   "metadata": {},
   "outputs": [
    {
     "data": {
      "text/plain": [
       "'\\ntry:\\n    sf.bulk.Course__c.insert(course_load)\\nexcept Exception as e:\\n    print(e)\\n'"
      ]
     },
     "execution_count": 11,
     "metadata": {},
     "output_type": "execute_result"
    }
   ],
   "source": [
    "# insert in bulk for 'Course__c' table\n",
    "'''\n",
    "try:\n",
    "    sf.bulk.Course__c.insert(course_load)\n",
    "except Exception as e:\n",
    "    print(e)\n",
    "'''"
   ]
  }
 ],
 "metadata": {
  "kernelspec": {
   "display_name": "Python 3",
   "language": "python",
   "name": "python3"
  },
  "language_info": {
   "codemirror_mode": {
    "name": "ipython",
    "version": 3
   },
   "file_extension": ".py",
   "mimetype": "text/x-python",
   "name": "python",
   "nbconvert_exporter": "python",
   "pygments_lexer": "ipython3",
   "version": "3.7.6"
  }
 },
 "nbformat": 4,
 "nbformat_minor": 2
}
