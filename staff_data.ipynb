{
 "cells": [
  {
   "cell_type": "code",
   "execution_count": 1,
   "metadata": {},
   "outputs": [],
   "source": [
    "# Import dependencies\n",
    "import json\n",
    "from sqlalchemy import create_engine\n",
    "import pandas as pd\n",
    "import pymysql\n",
    "pymysql.install_as_MySQLdb()\n",
    "from datetime import datetime, date"
   ]
  },
  {
   "cell_type": "code",
   "execution_count": 2,
   "metadata": {},
   "outputs": [],
   "source": [
    "# Import configuration variables\n",
    "from config import sf_username, sf_password, sf_security_token\n",
    "from config import remote_db_endpoint, remote_db_port\n",
    "from config import remote_db_name, remote_db_user, remote_db_pwd"
   ]
  },
  {
   "cell_type": "code",
   "execution_count": 3,
   "metadata": {},
   "outputs": [],
   "source": [
    "# Set up simple_salesforce\n",
    "from simple_salesforce import Salesforce\n",
    "sf = Salesforce(username=sf_username, password=sf_password, security_token=sf_security_token)"
   ]
  },
  {
   "cell_type": "code",
   "execution_count": 4,
   "metadata": {},
   "outputs": [],
   "source": [
    "# Connect to your MySQL database\n",
    "engine = create_engine(f\"mysql://{remote_db_user}:{remote_db_pwd}@{remote_db_endpoint}:{remote_db_port}/{remote_db_name}\")\n",
    "conn = engine.connect()"
   ]
  },
  {
   "cell_type": "markdown",
   "metadata": {},
   "source": [
    "# Query 'staff' table from MySql"
   ]
  },
  {
   "cell_type": "code",
   "execution_count": 5,
   "metadata": {},
   "outputs": [
    {
     "data": {
      "text/html": [
       "<div>\n",
       "<style scoped>\n",
       "    .dataframe tbody tr th:only-of-type {\n",
       "        vertical-align: middle;\n",
       "    }\n",
       "\n",
       "    .dataframe tbody tr th {\n",
       "        vertical-align: top;\n",
       "    }\n",
       "\n",
       "    .dataframe thead th {\n",
       "        text-align: right;\n",
       "    }\n",
       "</style>\n",
       "<table border=\"1\" class=\"dataframe\">\n",
       "  <thead>\n",
       "    <tr style=\"text-align: right;\">\n",
       "      <th></th>\n",
       "      <th>ID_Staff</th>\n",
       "      <th>EmployeeID</th>\n",
       "      <th>LastName</th>\n",
       "      <th>FirstName</th>\n",
       "      <th>MiddleName</th>\n",
       "      <th>BirthDate</th>\n",
       "    </tr>\n",
       "  </thead>\n",
       "  <tbody>\n",
       "    <tr>\n",
       "      <th>0</th>\n",
       "      <td>1</td>\n",
       "      <td>000184220</td>\n",
       "      <td>Wimberly</td>\n",
       "      <td>Sam</td>\n",
       "      <td>Nico</td>\n",
       "      <td>1995-07-05</td>\n",
       "    </tr>\n",
       "    <tr>\n",
       "      <th>1</th>\n",
       "      <td>2</td>\n",
       "      <td>000130109</td>\n",
       "      <td>Sanford</td>\n",
       "      <td>Gemini</td>\n",
       "      <td>Blair</td>\n",
       "      <td>1992-04-22</td>\n",
       "    </tr>\n",
       "    <tr>\n",
       "      <th>2</th>\n",
       "      <td>3</td>\n",
       "      <td>000160655</td>\n",
       "      <td>Williams</td>\n",
       "      <td>Dartanion</td>\n",
       "      <td>De Angelo</td>\n",
       "      <td>1993-05-21</td>\n",
       "    </tr>\n",
       "    <tr>\n",
       "      <th>3</th>\n",
       "      <td>4</td>\n",
       "      <td>000159108</td>\n",
       "      <td>Popelka</td>\n",
       "      <td>Sarah</td>\n",
       "      <td>Nisan</td>\n",
       "      <td>1994-06-07</td>\n",
       "    </tr>\n",
       "  </tbody>\n",
       "</table>\n",
       "</div>"
      ],
      "text/plain": [
       "   ID_Staff EmployeeID  LastName  FirstName MiddleName   BirthDate\n",
       "0         1  000184220  Wimberly        Sam       Nico  1995-07-05\n",
       "1         2  000130109   Sanford     Gemini      Blair  1992-04-22\n",
       "2         3  000160655  Williams  Dartanion  De Angelo  1993-05-21\n",
       "3         4  000159108   Popelka      Sarah      Nisan  1994-06-07"
      ]
     },
     "execution_count": 5,
     "metadata": {},
     "output_type": "execute_result"
    }
   ],
   "source": [
    "# Query Data\n",
    "staff_data = pd.read_sql(\"SELECT * FROM staff\", conn)\n",
    "staff_data.head()"
   ]
  },
  {
   "cell_type": "code",
   "execution_count": 7,
   "metadata": {},
   "outputs": [
    {
     "data": {
      "text/html": [
       "<div>\n",
       "<style scoped>\n",
       "    .dataframe tbody tr th:only-of-type {\n",
       "        vertical-align: middle;\n",
       "    }\n",
       "\n",
       "    .dataframe tbody tr th {\n",
       "        vertical-align: top;\n",
       "    }\n",
       "\n",
       "    .dataframe thead th {\n",
       "        text-align: right;\n",
       "    }\n",
       "</style>\n",
       "<table border=\"1\" class=\"dataframe\">\n",
       "  <thead>\n",
       "    <tr style=\"text-align: right;\">\n",
       "      <th></th>\n",
       "      <th>ID_Staff__c</th>\n",
       "      <th>EmployeeID__c</th>\n",
       "      <th>Last_Name__c</th>\n",
       "      <th>Name</th>\n",
       "      <th>Middle__c</th>\n",
       "      <th>Birth_Date__c</th>\n",
       "    </tr>\n",
       "  </thead>\n",
       "  <tbody>\n",
       "    <tr>\n",
       "      <th>0</th>\n",
       "      <td>1</td>\n",
       "      <td>000184220</td>\n",
       "      <td>Wimberly</td>\n",
       "      <td>Sam</td>\n",
       "      <td>Nico</td>\n",
       "      <td>1995-07-05</td>\n",
       "    </tr>\n",
       "    <tr>\n",
       "      <th>1</th>\n",
       "      <td>2</td>\n",
       "      <td>000130109</td>\n",
       "      <td>Sanford</td>\n",
       "      <td>Gemini</td>\n",
       "      <td>Blair</td>\n",
       "      <td>1992-04-22</td>\n",
       "    </tr>\n",
       "    <tr>\n",
       "      <th>2</th>\n",
       "      <td>3</td>\n",
       "      <td>000160655</td>\n",
       "      <td>Williams</td>\n",
       "      <td>Dartanion</td>\n",
       "      <td>De Angelo</td>\n",
       "      <td>1993-05-21</td>\n",
       "    </tr>\n",
       "    <tr>\n",
       "      <th>3</th>\n",
       "      <td>4</td>\n",
       "      <td>000159108</td>\n",
       "      <td>Popelka</td>\n",
       "      <td>Sarah</td>\n",
       "      <td>Nisan</td>\n",
       "      <td>1994-06-07</td>\n",
       "    </tr>\n",
       "  </tbody>\n",
       "</table>\n",
       "</div>"
      ],
      "text/plain": [
       "   ID_Staff__c EmployeeID__c Last_Name__c       Name  Middle__c Birth_Date__c\n",
       "0            1     000184220     Wimberly        Sam       Nico    1995-07-05\n",
       "1            2     000130109      Sanford     Gemini      Blair    1992-04-22\n",
       "2            3     000160655     Williams  Dartanion  De Angelo    1993-05-21\n",
       "3            4     000159108      Popelka      Sarah      Nisan    1994-06-07"
      ]
     },
     "execution_count": 7,
     "metadata": {},
     "output_type": "execute_result"
    }
   ],
   "source": [
    "# Transform Data to perfectly match between dataframe headers and field names in Salesforce\n",
    "staff_data = staff_data.rename(columns={\n",
    "                                        'ID_Staff':'ID_Staff__c',\n",
    "                                        'EmployeeID':'EmployeeID__c',\n",
    "                                        'LastName':'Last_Name__c',\n",
    "                                        'FirstName':'Name',\n",
    "                                        'MiddleName':'Middle__c',\n",
    "                                        'BirthDate':'Birth_Date__c'                                     \n",
    "                                })\n",
    "staff_data.head()"
   ]
  },
  {
   "cell_type": "code",
   "execution_count": 8,
   "metadata": {},
   "outputs": [
    {
     "data": {
      "text/html": [
       "<div>\n",
       "<style scoped>\n",
       "    .dataframe tbody tr th:only-of-type {\n",
       "        vertical-align: middle;\n",
       "    }\n",
       "\n",
       "    .dataframe tbody tr th {\n",
       "        vertical-align: top;\n",
       "    }\n",
       "\n",
       "    .dataframe thead th {\n",
       "        text-align: right;\n",
       "    }\n",
       "</style>\n",
       "<table border=\"1\" class=\"dataframe\">\n",
       "  <thead>\n",
       "    <tr style=\"text-align: right;\">\n",
       "      <th></th>\n",
       "      <th>ID_Staff__c</th>\n",
       "      <th>EmployeeID__c</th>\n",
       "      <th>Last_Name__c</th>\n",
       "      <th>Name</th>\n",
       "      <th>Middle__c</th>\n",
       "      <th>Birth_Date__c</th>\n",
       "    </tr>\n",
       "  </thead>\n",
       "  <tbody>\n",
       "    <tr>\n",
       "      <th>0</th>\n",
       "      <td>1</td>\n",
       "      <td>000184220</td>\n",
       "      <td>Wimberly</td>\n",
       "      <td>Sam</td>\n",
       "      <td>Nico</td>\n",
       "      <td>1995-07-05</td>\n",
       "    </tr>\n",
       "    <tr>\n",
       "      <th>1</th>\n",
       "      <td>2</td>\n",
       "      <td>000130109</td>\n",
       "      <td>Sanford</td>\n",
       "      <td>Gemini</td>\n",
       "      <td>Blair</td>\n",
       "      <td>1992-04-22</td>\n",
       "    </tr>\n",
       "    <tr>\n",
       "      <th>2</th>\n",
       "      <td>3</td>\n",
       "      <td>000160655</td>\n",
       "      <td>Williams</td>\n",
       "      <td>Dartanion</td>\n",
       "      <td>De Angelo</td>\n",
       "      <td>1993-05-21</td>\n",
       "    </tr>\n",
       "    <tr>\n",
       "      <th>3</th>\n",
       "      <td>4</td>\n",
       "      <td>000159108</td>\n",
       "      <td>Popelka</td>\n",
       "      <td>Sarah</td>\n",
       "      <td>Nisan</td>\n",
       "      <td>1994-06-07</td>\n",
       "    </tr>\n",
       "  </tbody>\n",
       "</table>\n",
       "</div>"
      ],
      "text/plain": [
       "   ID_Staff__c EmployeeID__c Last_Name__c       Name  Middle__c Birth_Date__c\n",
       "0            1     000184220     Wimberly        Sam       Nico    1995-07-05\n",
       "1            2     000130109      Sanford     Gemini      Blair    1992-04-22\n",
       "2            3     000160655     Williams  Dartanion  De Angelo    1993-05-21\n",
       "3            4     000159108      Popelka      Sarah      Nisan    1994-06-07"
      ]
     },
     "execution_count": 8,
     "metadata": {},
     "output_type": "execute_result"
    }
   ],
   "source": [
    "# Change to readable form \n",
    "staff_data['Birth_Date__c'] = staff_data['Birth_Date__c'].apply(lambda x: x.strftime('%Y-%m-%d')) \n",
    "staff_data"
   ]
  },
  {
   "cell_type": "code",
   "execution_count": 9,
   "metadata": {},
   "outputs": [
    {
     "data": {
      "text/plain": [
       "[{'ID_Staff__c': 1,\n",
       "  'EmployeeID__c': '000184220',\n",
       "  'Last_Name__c': 'Wimberly',\n",
       "  'Name': 'Sam',\n",
       "  'Middle__c': 'Nico',\n",
       "  'Birth_Date__c': '1995-07-05'},\n",
       " {'ID_Staff__c': 2,\n",
       "  'EmployeeID__c': '000130109',\n",
       "  'Last_Name__c': 'Sanford',\n",
       "  'Name': 'Gemini',\n",
       "  'Middle__c': 'Blair',\n",
       "  'Birth_Date__c': '1992-04-22'},\n",
       " {'ID_Staff__c': 3,\n",
       "  'EmployeeID__c': '000160655',\n",
       "  'Last_Name__c': 'Williams',\n",
       "  'Name': 'Dartanion',\n",
       "  'Middle__c': 'De Angelo',\n",
       "  'Birth_Date__c': '1993-05-21'},\n",
       " {'ID_Staff__c': 4,\n",
       "  'EmployeeID__c': '000159108',\n",
       "  'Last_Name__c': 'Popelka',\n",
       "  'Name': 'Sarah',\n",
       "  'Middle__c': 'Nisan',\n",
       "  'Birth_Date__c': '1994-06-07'}]"
      ]
     },
     "execution_count": 9,
     "metadata": {},
     "output_type": "execute_result"
    }
   ],
   "source": [
    "# Convert DataFrame to a list of dictionaries --> This can help facilitate a bulk insert\n",
    "staff_load = staff_data.to_dict(orient='record')\n",
    "staff_load"
   ]
  },
  {
   "cell_type": "code",
   "execution_count": 12,
   "metadata": {},
   "outputs": [
    {
     "data": {
      "text/plain": [
       "'\\n# Inserting rows in bulk for Class table on Salesforce\\ntry:\\n    sf.bulk.Staff__c.insert(staff_load)\\nexcept Exception as e:\\n    print(e)\\n'"
      ]
     },
     "execution_count": 12,
     "metadata": {},
     "output_type": "execute_result"
    }
   ],
   "source": [
    "'''\n",
    "# Inserting rows in bulk for Class table on Salesforce\n",
    "try:\n",
    "    sf.bulk.Staff__c.insert(staff_load)\n",
    "except Exception as e:\n",
    "    print(e)\n",
    "'''"
   ]
  },
  {
   "cell_type": "code",
   "execution_count": 11,
   "metadata": {},
   "outputs": [],
   "source": [
    "for row in staff_load:\n",
    "\n",
    "    record = {\n",
    "        'ID_Staff__c': row['ID_Staff__c'],\n",
    "        'EmployeeID__c': row['EmployeeID__c'],\n",
    "        'Last_Name__c': row['Last_Name__c'],\n",
    "        'Name':row['Name'],\n",
    "        'Middle__c':row['Middle__c'],\n",
    "        'Birth_Date__c':row['Birth_Date__c']\n",
    "    }\n",
    "    \n",
    "    try:\n",
    "        sf.Staff__c.create(record)\n",
    "    except Exception as e:\n",
    "        print(e)"
   ]
  },
  {
   "cell_type": "code",
   "execution_count": null,
   "metadata": {},
   "outputs": [],
   "source": []
  }
 ],
 "metadata": {
  "kernelspec": {
   "display_name": "Python 3",
   "language": "python",
   "name": "python3"
  },
  "language_info": {
   "codemirror_mode": {
    "name": "ipython",
    "version": 3
   },
   "file_extension": ".py",
   "mimetype": "text/x-python",
   "name": "python",
   "nbconvert_exporter": "python",
   "pygments_lexer": "ipython3",
   "version": "3.7.6"
  }
 },
 "nbformat": 4,
 "nbformat_minor": 4
}
